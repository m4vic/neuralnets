{
  "nbformat": 4,
  "nbformat_minor": 0,
  "metadata": {
    "colab": {
      "provenance": [],
      "gpuType": "T4",
      "authorship_tag": "ABX9TyNMdrVLl9SLUvjzp4fupI1Q",
      "include_colab_link": true
    },
    "kernelspec": {
      "name": "python3",
      "display_name": "Python 3"
    },
    "language_info": {
      "name": "python"
    },
    "accelerator": "GPU"
  },
  "cells": [
    {
      "cell_type": "markdown",
      "metadata": {
        "id": "view-in-github",
        "colab_type": "text"
      },
      "source": [
        "<a href=\"https://colab.research.google.com/github/m4vic/neuralnets/blob/main/ANN.ipynb\" target=\"_parent\"><img src=\"https://colab.research.google.com/assets/colab-badge.svg\" alt=\"Open In Colab\"/></a>"
      ]
    },
    {
      "cell_type": "markdown",
      "source": [
        "flow of this  \n",
        "data loader obj training and test data --> training loop ---> evaluation"
      ],
      "metadata": {
        "id": "ckrmQ6VZeeXb"
      }
    },
    {
      "cell_type": "code",
      "execution_count": 2,
      "metadata": {
        "id": "aQF_b6PTbMZP"
      },
      "outputs": [],
      "source": [
        "import pandas as pd\n",
        "from sklearn.model_selection import train_test_split\n",
        "import torch\n",
        "from torch.utils.data import Dataset, DataLoader\n",
        "from torch import nn\n",
        "import torch.optim as optim\n",
        "import matplotlib.pyplot as plt"
      ]
    },
    {
      "cell_type": "code",
      "source": [
        "#set random seeds for reproducibility\n",
        "torch.manual_seed(42)"
      ],
      "metadata": {
        "id": "vLoYvLMCeZwy",
        "colab": {
          "base_uri": "https://localhost:8080/"
        },
        "outputId": "d38d55b0-8b7e-41d1-b91e-a4249f17afad"
      },
      "execution_count": 9,
      "outputs": [
        {
          "output_type": "execute_result",
          "data": {
            "text/plain": [
              "<torch._C.Generator at 0x7c8867b095b0>"
            ]
          },
          "metadata": {},
          "execution_count": 9
        }
      ]
    },
    {
      "cell_type": "code",
      "source": [
        "device = torch.device('cuda' if torch.cuda.is_available() else 'cpu')\n",
        "print(f\"using device{device}\")"
      ],
      "metadata": {
        "colab": {
          "base_uri": "https://localhost:8080/"
        },
        "id": "P8Xi2-3bzh3_",
        "outputId": "eca891ac-736a-47d6-ae2d-63ca74837f93"
      },
      "execution_count": 10,
      "outputs": [
        {
          "output_type": "stream",
          "name": "stdout",
          "text": [
            "using devicecuda\n"
          ]
        }
      ]
    },
    {
      "cell_type": "code",
      "source": [
        "df = pd.read_csv('/content/fashion-mnist_train.csv')\n",
        "df.head()"
      ],
      "metadata": {
        "colab": {
          "base_uri": "https://localhost:8080/",
          "height": 255
        },
        "id": "k032yITqxq6e",
        "outputId": "d76f6794-13c9-46c8-bd34-db72042ea756"
      },
      "execution_count": 11,
      "outputs": [
        {
          "output_type": "execute_result",
          "data": {
            "text/plain": [
              "   label  pixel1  pixel2  pixel3  pixel4  pixel5  pixel6  pixel7  pixel8  \\\n",
              "0      2       0       0       0       0       0       0       0       0   \n",
              "1      9       0       0       0       0       0       0       0       0   \n",
              "2      6       0       0       0       0       0       0       0       5   \n",
              "3      0       0       0       0       1       2       0       0       0   \n",
              "4      3       0       0       0       0       0       0       0       0   \n",
              "\n",
              "   pixel9  ...  pixel775  pixel776  pixel777  pixel778  pixel779  pixel780  \\\n",
              "0       0  ...         0         0         0         0         0         0   \n",
              "1       0  ...         0         0         0         0         0         0   \n",
              "2       0  ...         0         0         0        30        43         0   \n",
              "3       0  ...         3         0         0         0         0         1   \n",
              "4       0  ...         0         0         0         0         0         0   \n",
              "\n",
              "   pixel781  pixel782  pixel783  pixel784  \n",
              "0         0         0         0         0  \n",
              "1         0         0         0         0  \n",
              "2         0         0         0         0  \n",
              "3         0         0         0         0  \n",
              "4         0         0         0         0  \n",
              "\n",
              "[5 rows x 785 columns]"
            ],
            "text/html": [
              "\n",
              "  <div id=\"df-474b14cf-01c7-4f55-aa52-b20132c9d1fa\" class=\"colab-df-container\">\n",
              "    <div>\n",
              "<style scoped>\n",
              "    .dataframe tbody tr th:only-of-type {\n",
              "        vertical-align: middle;\n",
              "    }\n",
              "\n",
              "    .dataframe tbody tr th {\n",
              "        vertical-align: top;\n",
              "    }\n",
              "\n",
              "    .dataframe thead th {\n",
              "        text-align: right;\n",
              "    }\n",
              "</style>\n",
              "<table border=\"1\" class=\"dataframe\">\n",
              "  <thead>\n",
              "    <tr style=\"text-align: right;\">\n",
              "      <th></th>\n",
              "      <th>label</th>\n",
              "      <th>pixel1</th>\n",
              "      <th>pixel2</th>\n",
              "      <th>pixel3</th>\n",
              "      <th>pixel4</th>\n",
              "      <th>pixel5</th>\n",
              "      <th>pixel6</th>\n",
              "      <th>pixel7</th>\n",
              "      <th>pixel8</th>\n",
              "      <th>pixel9</th>\n",
              "      <th>...</th>\n",
              "      <th>pixel775</th>\n",
              "      <th>pixel776</th>\n",
              "      <th>pixel777</th>\n",
              "      <th>pixel778</th>\n",
              "      <th>pixel779</th>\n",
              "      <th>pixel780</th>\n",
              "      <th>pixel781</th>\n",
              "      <th>pixel782</th>\n",
              "      <th>pixel783</th>\n",
              "      <th>pixel784</th>\n",
              "    </tr>\n",
              "  </thead>\n",
              "  <tbody>\n",
              "    <tr>\n",
              "      <th>0</th>\n",
              "      <td>2</td>\n",
              "      <td>0</td>\n",
              "      <td>0</td>\n",
              "      <td>0</td>\n",
              "      <td>0</td>\n",
              "      <td>0</td>\n",
              "      <td>0</td>\n",
              "      <td>0</td>\n",
              "      <td>0</td>\n",
              "      <td>0</td>\n",
              "      <td>...</td>\n",
              "      <td>0</td>\n",
              "      <td>0</td>\n",
              "      <td>0</td>\n",
              "      <td>0</td>\n",
              "      <td>0</td>\n",
              "      <td>0</td>\n",
              "      <td>0</td>\n",
              "      <td>0</td>\n",
              "      <td>0</td>\n",
              "      <td>0</td>\n",
              "    </tr>\n",
              "    <tr>\n",
              "      <th>1</th>\n",
              "      <td>9</td>\n",
              "      <td>0</td>\n",
              "      <td>0</td>\n",
              "      <td>0</td>\n",
              "      <td>0</td>\n",
              "      <td>0</td>\n",
              "      <td>0</td>\n",
              "      <td>0</td>\n",
              "      <td>0</td>\n",
              "      <td>0</td>\n",
              "      <td>...</td>\n",
              "      <td>0</td>\n",
              "      <td>0</td>\n",
              "      <td>0</td>\n",
              "      <td>0</td>\n",
              "      <td>0</td>\n",
              "      <td>0</td>\n",
              "      <td>0</td>\n",
              "      <td>0</td>\n",
              "      <td>0</td>\n",
              "      <td>0</td>\n",
              "    </tr>\n",
              "    <tr>\n",
              "      <th>2</th>\n",
              "      <td>6</td>\n",
              "      <td>0</td>\n",
              "      <td>0</td>\n",
              "      <td>0</td>\n",
              "      <td>0</td>\n",
              "      <td>0</td>\n",
              "      <td>0</td>\n",
              "      <td>0</td>\n",
              "      <td>5</td>\n",
              "      <td>0</td>\n",
              "      <td>...</td>\n",
              "      <td>0</td>\n",
              "      <td>0</td>\n",
              "      <td>0</td>\n",
              "      <td>30</td>\n",
              "      <td>43</td>\n",
              "      <td>0</td>\n",
              "      <td>0</td>\n",
              "      <td>0</td>\n",
              "      <td>0</td>\n",
              "      <td>0</td>\n",
              "    </tr>\n",
              "    <tr>\n",
              "      <th>3</th>\n",
              "      <td>0</td>\n",
              "      <td>0</td>\n",
              "      <td>0</td>\n",
              "      <td>0</td>\n",
              "      <td>1</td>\n",
              "      <td>2</td>\n",
              "      <td>0</td>\n",
              "      <td>0</td>\n",
              "      <td>0</td>\n",
              "      <td>0</td>\n",
              "      <td>...</td>\n",
              "      <td>3</td>\n",
              "      <td>0</td>\n",
              "      <td>0</td>\n",
              "      <td>0</td>\n",
              "      <td>0</td>\n",
              "      <td>1</td>\n",
              "      <td>0</td>\n",
              "      <td>0</td>\n",
              "      <td>0</td>\n",
              "      <td>0</td>\n",
              "    </tr>\n",
              "    <tr>\n",
              "      <th>4</th>\n",
              "      <td>3</td>\n",
              "      <td>0</td>\n",
              "      <td>0</td>\n",
              "      <td>0</td>\n",
              "      <td>0</td>\n",
              "      <td>0</td>\n",
              "      <td>0</td>\n",
              "      <td>0</td>\n",
              "      <td>0</td>\n",
              "      <td>0</td>\n",
              "      <td>...</td>\n",
              "      <td>0</td>\n",
              "      <td>0</td>\n",
              "      <td>0</td>\n",
              "      <td>0</td>\n",
              "      <td>0</td>\n",
              "      <td>0</td>\n",
              "      <td>0</td>\n",
              "      <td>0</td>\n",
              "      <td>0</td>\n",
              "      <td>0</td>\n",
              "    </tr>\n",
              "  </tbody>\n",
              "</table>\n",
              "<p>5 rows × 785 columns</p>\n",
              "</div>\n",
              "    <div class=\"colab-df-buttons\">\n",
              "\n",
              "  <div class=\"colab-df-container\">\n",
              "    <button class=\"colab-df-convert\" onclick=\"convertToInteractive('df-474b14cf-01c7-4f55-aa52-b20132c9d1fa')\"\n",
              "            title=\"Convert this dataframe to an interactive table.\"\n",
              "            style=\"display:none;\">\n",
              "\n",
              "  <svg xmlns=\"http://www.w3.org/2000/svg\" height=\"24px\" viewBox=\"0 -960 960 960\">\n",
              "    <path d=\"M120-120v-720h720v720H120Zm60-500h600v-160H180v160Zm220 220h160v-160H400v160Zm0 220h160v-160H400v160ZM180-400h160v-160H180v160Zm440 0h160v-160H620v160ZM180-180h160v-160H180v160Zm440 0h160v-160H620v160Z\"/>\n",
              "  </svg>\n",
              "    </button>\n",
              "\n",
              "  <style>\n",
              "    .colab-df-container {\n",
              "      display:flex;\n",
              "      gap: 12px;\n",
              "    }\n",
              "\n",
              "    .colab-df-convert {\n",
              "      background-color: #E8F0FE;\n",
              "      border: none;\n",
              "      border-radius: 50%;\n",
              "      cursor: pointer;\n",
              "      display: none;\n",
              "      fill: #1967D2;\n",
              "      height: 32px;\n",
              "      padding: 0 0 0 0;\n",
              "      width: 32px;\n",
              "    }\n",
              "\n",
              "    .colab-df-convert:hover {\n",
              "      background-color: #E2EBFA;\n",
              "      box-shadow: 0px 1px 2px rgba(60, 64, 67, 0.3), 0px 1px 3px 1px rgba(60, 64, 67, 0.15);\n",
              "      fill: #174EA6;\n",
              "    }\n",
              "\n",
              "    .colab-df-buttons div {\n",
              "      margin-bottom: 4px;\n",
              "    }\n",
              "\n",
              "    [theme=dark] .colab-df-convert {\n",
              "      background-color: #3B4455;\n",
              "      fill: #D2E3FC;\n",
              "    }\n",
              "\n",
              "    [theme=dark] .colab-df-convert:hover {\n",
              "      background-color: #434B5C;\n",
              "      box-shadow: 0px 1px 3px 1px rgba(0, 0, 0, 0.15);\n",
              "      filter: drop-shadow(0px 1px 2px rgba(0, 0, 0, 0.3));\n",
              "      fill: #FFFFFF;\n",
              "    }\n",
              "  </style>\n",
              "\n",
              "    <script>\n",
              "      const buttonEl =\n",
              "        document.querySelector('#df-474b14cf-01c7-4f55-aa52-b20132c9d1fa button.colab-df-convert');\n",
              "      buttonEl.style.display =\n",
              "        google.colab.kernel.accessAllowed ? 'block' : 'none';\n",
              "\n",
              "      async function convertToInteractive(key) {\n",
              "        const element = document.querySelector('#df-474b14cf-01c7-4f55-aa52-b20132c9d1fa');\n",
              "        const dataTable =\n",
              "          await google.colab.kernel.invokeFunction('convertToInteractive',\n",
              "                                                    [key], {});\n",
              "        if (!dataTable) return;\n",
              "\n",
              "        const docLinkHtml = 'Like what you see? Visit the ' +\n",
              "          '<a target=\"_blank\" href=https://colab.research.google.com/notebooks/data_table.ipynb>data table notebook</a>'\n",
              "          + ' to learn more about interactive tables.';\n",
              "        element.innerHTML = '';\n",
              "        dataTable['output_type'] = 'display_data';\n",
              "        await google.colab.output.renderOutput(dataTable, element);\n",
              "        const docLink = document.createElement('div');\n",
              "        docLink.innerHTML = docLinkHtml;\n",
              "        element.appendChild(docLink);\n",
              "      }\n",
              "    </script>\n",
              "  </div>\n",
              "\n",
              "\n",
              "    <div id=\"df-08b48b63-7206-4d0b-9ceb-159afa4ab0c5\">\n",
              "      <button class=\"colab-df-quickchart\" onclick=\"quickchart('df-08b48b63-7206-4d0b-9ceb-159afa4ab0c5')\"\n",
              "                title=\"Suggest charts\"\n",
              "                style=\"display:none;\">\n",
              "\n",
              "<svg xmlns=\"http://www.w3.org/2000/svg\" height=\"24px\"viewBox=\"0 0 24 24\"\n",
              "     width=\"24px\">\n",
              "    <g>\n",
              "        <path d=\"M19 3H5c-1.1 0-2 .9-2 2v14c0 1.1.9 2 2 2h14c1.1 0 2-.9 2-2V5c0-1.1-.9-2-2-2zM9 17H7v-7h2v7zm4 0h-2V7h2v10zm4 0h-2v-4h2v4z\"/>\n",
              "    </g>\n",
              "</svg>\n",
              "      </button>\n",
              "\n",
              "<style>\n",
              "  .colab-df-quickchart {\n",
              "      --bg-color: #E8F0FE;\n",
              "      --fill-color: #1967D2;\n",
              "      --hover-bg-color: #E2EBFA;\n",
              "      --hover-fill-color: #174EA6;\n",
              "      --disabled-fill-color: #AAA;\n",
              "      --disabled-bg-color: #DDD;\n",
              "  }\n",
              "\n",
              "  [theme=dark] .colab-df-quickchart {\n",
              "      --bg-color: #3B4455;\n",
              "      --fill-color: #D2E3FC;\n",
              "      --hover-bg-color: #434B5C;\n",
              "      --hover-fill-color: #FFFFFF;\n",
              "      --disabled-bg-color: #3B4455;\n",
              "      --disabled-fill-color: #666;\n",
              "  }\n",
              "\n",
              "  .colab-df-quickchart {\n",
              "    background-color: var(--bg-color);\n",
              "    border: none;\n",
              "    border-radius: 50%;\n",
              "    cursor: pointer;\n",
              "    display: none;\n",
              "    fill: var(--fill-color);\n",
              "    height: 32px;\n",
              "    padding: 0;\n",
              "    width: 32px;\n",
              "  }\n",
              "\n",
              "  .colab-df-quickchart:hover {\n",
              "    background-color: var(--hover-bg-color);\n",
              "    box-shadow: 0 1px 2px rgba(60, 64, 67, 0.3), 0 1px 3px 1px rgba(60, 64, 67, 0.15);\n",
              "    fill: var(--button-hover-fill-color);\n",
              "  }\n",
              "\n",
              "  .colab-df-quickchart-complete:disabled,\n",
              "  .colab-df-quickchart-complete:disabled:hover {\n",
              "    background-color: var(--disabled-bg-color);\n",
              "    fill: var(--disabled-fill-color);\n",
              "    box-shadow: none;\n",
              "  }\n",
              "\n",
              "  .colab-df-spinner {\n",
              "    border: 2px solid var(--fill-color);\n",
              "    border-color: transparent;\n",
              "    border-bottom-color: var(--fill-color);\n",
              "    animation:\n",
              "      spin 1s steps(1) infinite;\n",
              "  }\n",
              "\n",
              "  @keyframes spin {\n",
              "    0% {\n",
              "      border-color: transparent;\n",
              "      border-bottom-color: var(--fill-color);\n",
              "      border-left-color: var(--fill-color);\n",
              "    }\n",
              "    20% {\n",
              "      border-color: transparent;\n",
              "      border-left-color: var(--fill-color);\n",
              "      border-top-color: var(--fill-color);\n",
              "    }\n",
              "    30% {\n",
              "      border-color: transparent;\n",
              "      border-left-color: var(--fill-color);\n",
              "      border-top-color: var(--fill-color);\n",
              "      border-right-color: var(--fill-color);\n",
              "    }\n",
              "    40% {\n",
              "      border-color: transparent;\n",
              "      border-right-color: var(--fill-color);\n",
              "      border-top-color: var(--fill-color);\n",
              "    }\n",
              "    60% {\n",
              "      border-color: transparent;\n",
              "      border-right-color: var(--fill-color);\n",
              "    }\n",
              "    80% {\n",
              "      border-color: transparent;\n",
              "      border-right-color: var(--fill-color);\n",
              "      border-bottom-color: var(--fill-color);\n",
              "    }\n",
              "    90% {\n",
              "      border-color: transparent;\n",
              "      border-bottom-color: var(--fill-color);\n",
              "    }\n",
              "  }\n",
              "</style>\n",
              "\n",
              "      <script>\n",
              "        async function quickchart(key) {\n",
              "          const quickchartButtonEl =\n",
              "            document.querySelector('#' + key + ' button');\n",
              "          quickchartButtonEl.disabled = true;  // To prevent multiple clicks.\n",
              "          quickchartButtonEl.classList.add('colab-df-spinner');\n",
              "          try {\n",
              "            const charts = await google.colab.kernel.invokeFunction(\n",
              "                'suggestCharts', [key], {});\n",
              "          } catch (error) {\n",
              "            console.error('Error during call to suggestCharts:', error);\n",
              "          }\n",
              "          quickchartButtonEl.classList.remove('colab-df-spinner');\n",
              "          quickchartButtonEl.classList.add('colab-df-quickchart-complete');\n",
              "        }\n",
              "        (() => {\n",
              "          let quickchartButtonEl =\n",
              "            document.querySelector('#df-08b48b63-7206-4d0b-9ceb-159afa4ab0c5 button');\n",
              "          quickchartButtonEl.style.display =\n",
              "            google.colab.kernel.accessAllowed ? 'block' : 'none';\n",
              "        })();\n",
              "      </script>\n",
              "    </div>\n",
              "\n",
              "    </div>\n",
              "  </div>\n"
            ],
            "application/vnd.google.colaboratory.intrinsic+json": {
              "type": "dataframe",
              "variable_name": "df"
            }
          },
          "metadata": {},
          "execution_count": 11
        }
      ]
    },
    {
      "cell_type": "markdown",
      "source": [
        "SEE THE DATA"
      ],
      "metadata": {
        "id": "xNA8LsvhyuMi"
      }
    },
    {
      "cell_type": "code",
      "source": [
        "df.shape"
      ],
      "metadata": {
        "colab": {
          "base_uri": "https://localhost:8080/"
        },
        "id": "w9aWzcmIzuQz",
        "outputId": "cb213740-701c-4a04-e2cc-89eb9aaa19a0"
      },
      "execution_count": 12,
      "outputs": [
        {
          "output_type": "execute_result",
          "data": {
            "text/plain": [
              "(60000, 785)"
            ]
          },
          "metadata": {},
          "execution_count": 12
        }
      ]
    },
    {
      "cell_type": "code",
      "source": [
        "# create a 4x4 grid of images\n",
        "fig, axes = plt.subplots(4, 4, figsize=(10, 10))\n",
        "fig.suptitle('4x4 Grid of Images', fontsize=16)\n",
        "\n",
        "for i , ax in enumerate(axes.flat):\n",
        "  ax.imshow(df.iloc[i, 1:].values.reshape(28, 28), cmap='grey')\n",
        "  ax.set_title(f'Label: {df.iloc[i, 0]}')\n",
        "  ax.axis('off')\n",
        "\n",
        "plt.tight_layout()\n",
        "plt.show()"
      ],
      "metadata": {
        "colab": {
          "base_uri": "https://localhost:8080/",
          "height": 787
        },
        "id": "CvW-2QH5x2DT",
        "outputId": "57a923af-9eef-4ccc-d1b9-afd88b178c7e"
      },
      "execution_count": 13,
      "outputs": [
        {
          "output_type": "display_data",
          "data": {
            "text/plain": [
              "<Figure size 1000x1000 with 16 Axes>"
            ],
            "image/png": "[encoded data removed]"
          },
          "metadata": {}
        }
      ]
    },
    {
      "cell_type": "markdown",
      "source": [
        "DATA"
      ],
      "metadata": {
        "id": "1qZqbyLRysBU"
      }
    },
    {
      "cell_type": "code",
      "source": [
        "X = df.iloc[:, 1:].values # all from 1 index to end\n",
        "y = df.iloc[:, 0].values # all 0 th index ie label"
      ],
      "metadata": {
        "id": "7Oh6rPm6x3eQ"
      },
      "execution_count": 14,
      "outputs": []
    },
    {
      "cell_type": "code",
      "source": [
        "x_train, x_test, y_train, y_test = train_test_split(X, y, test_size=0.2, random_state=42)"
      ],
      "metadata": {
        "id": "rXdPEbgTy2o0"
      },
      "execution_count": 15,
      "outputs": []
    },
    {
      "cell_type": "code",
      "source": [
        "# SCALING THE FEATURES coz noramalize\n",
        "x_train = x_train / 255.0\n",
        "x_test = x_test / 255.0"
      ],
      "metadata": {
        "id": "1JJ7ePi_y91O"
      },
      "execution_count": 16,
      "outputs": []
    },
    {
      "cell_type": "code",
      "source": [
        "# create CustomDataset Class\n",
        "\n",
        "class CustomDataset(Dataset):\n",
        "\n",
        "  def __init__(self, features, labels): # it will fetch the data from dataset\n",
        "    self.features = torch.tensor(features, dtype=torch.float32)\n",
        "    self.labels = torch.tensor(labels, dtype=torch.long) # declaring the data\n",
        "\n",
        "  def __len__(self): # it will retrun len\n",
        "    return len(self.features)\n",
        "\n",
        "  def __getitem__(self, idx):\n",
        "    return self.features[idx], self.labels[idx]\n"
      ],
      "metadata": {
        "id": "BFaOVA3nzBTB"
      },
      "execution_count": 17,
      "outputs": []
    },
    {
      "cell_type": "code",
      "source": [
        "# create train_dataset object\n",
        "train_dataset = CustomDataset(x_train, y_train)"
      ],
      "metadata": {
        "id": "lgfPqmpazus1"
      },
      "execution_count": 18,
      "outputs": []
    },
    {
      "cell_type": "code",
      "source": [
        "len(train_dataset)"
      ],
      "metadata": {
        "colab": {
          "base_uri": "https://localhost:8080/"
        },
        "id": "rgo0cocN1BS0",
        "outputId": "8f27fa47-7ae9-4405-bfaf-11279d7c6ae7"
      },
      "execution_count": 19,
      "outputs": [
        {
          "output_type": "execute_result",
          "data": {
            "text/plain": [
              "48000"
            ]
          },
          "metadata": {},
          "execution_count": 19
        }
      ]
    },
    {
      "cell_type": "code",
      "source": [
        "#create test_dataset object\n",
        "test_dataset = CustomDataset(x_test, y_test)"
      ],
      "metadata": {
        "id": "9HHk2XS91Df-"
      },
      "execution_count": 20,
      "outputs": []
    },
    {
      "cell_type": "code",
      "source": [
        "#create train and test loader\n",
        "train_loader = DataLoader(train_dataset, batch_size=32, shuffle=True, pin_memory =True)\n",
        "test_loader = DataLoader(test_dataset, batch_size=32, shuffle=False, pin_memory=True)"
      ],
      "metadata": {
        "id": "MFz3y_aZ1Tt0"
      },
      "execution_count": 21,
      "outputs": []
    },
    {
      "cell_type": "code",
      "source": [
        "# define NN\n",
        "\n",
        "class MyNN(nn.Module):\n",
        "  def __init__(self, num_features):\n",
        "    super().__init__()\n",
        "    self.model = nn.Sequential(\n",
        "        nn.Linear(num_features, 128), # input num_features and 128 features as output\n",
        "        nn.ReLU(),\n",
        "        nn.Linear(128, 64), # 128 input 64 output\n",
        "        nn.ReLU(),\n",
        "        nn.Linear(64, 10) #64 input 10 output\n",
        "    )\n",
        "\n",
        "  def forward(self, x):\n",
        "    return self.model(x)\n"
      ],
      "metadata": {
        "id": "fsagQoQS2FHN"
      },
      "execution_count": 22,
      "outputs": []
    },
    {
      "cell_type": "code",
      "source": [
        "# set learning rates\n",
        "epochs = 200\n",
        "learning_rate = 0.1"
      ],
      "metadata": {
        "id": "m0NgkDI029IX"
      },
      "execution_count": 23,
      "outputs": []
    },
    {
      "cell_type": "code",
      "source": [
        "len(train_loader)"
      ],
      "metadata": {
        "colab": {
          "base_uri": "https://localhost:8080/"
        },
        "id": "uNg__5IvHl4a",
        "outputId": "a2e2fc8f-dc9d-4781-ce7b-b9da702830c2"
      },
      "execution_count": 24,
      "outputs": [
        {
          "output_type": "execute_result",
          "data": {
            "text/plain": [
              "1500"
            ]
          },
          "metadata": {},
          "execution_count": 24
        }
      ]
    },
    {
      "cell_type": "code",
      "source": [
        "#instatiate the model\n",
        "model = MyNN(x_train.shape[1])\n",
        "model = model.to(device)\n",
        "#loss function\n",
        "criterion = nn.CrossEntropyLoss()\n",
        "\n",
        "#optimizer\n",
        "optimizer = optim.SGD(model.parameters(), lr=learning_rate)"
      ],
      "metadata": {
        "id": "RyWlFKc-3FOj"
      },
      "execution_count": 25,
      "outputs": []
    },
    {
      "cell_type": "code",
      "source": [
        "#training loop\n",
        "\n",
        "for epoch in range(epochs):\n",
        "  total_epoch_loss = 0\n",
        "  for batch_features, batch_labels in train_loader:\n",
        "\n",
        "    # move data to gpu\n",
        "    batch_features = batch_features.to(device)\n",
        "    batch_labels = batch_labels.to(device)\n",
        "\n",
        "    #forward pass\n",
        "    outputs = model(batch_features)\n",
        "\n",
        "    #calculate loss\n",
        "    loss = criterion(outputs, batch_labels)\n",
        "\n",
        "    #backward pass\n",
        "    optimizer.zero_grad()\n",
        "    loss.backward()\n",
        "\n",
        "    # update grads\n",
        "    optimizer.step()\n",
        "\n",
        "    # accumulate loss\n",
        "    total_epoch_loss = total_epoch_loss +  loss.item()\n",
        "  avg_loss = total_epoch_loss / len(train_loader)\n",
        "  print(f'Epoch [{epoch+1}/{epochs}], Loss: {avg_loss}')"
      ],
      "metadata": {
        "colab": {
          "base_uri": "https://localhost:8080/"
        },
        "id": "t2imU3y0HlEj",
        "outputId": "5c9ec1a8-a6f4-4ffa-eb19-017e3d439f90"
      },
      "execution_count": 26,
      "outputs": [
        {
          "output_type": "stream",
          "name": "stdout",
          "text": [
            "Epoch [1/200], Loss: 0.6352872455318769\n",
            "Epoch [2/200], Loss: 0.4304986933817466\n",
            "Epoch [3/200], Loss: 0.38612620331346986\n",
            "Epoch [4/200], Loss: 0.3584607186516126\n",
            "Epoch [5/200], Loss: 0.3376494685560465\n",
            "Epoch [6/200], Loss: 0.3227646785800656\n",
            "Epoch [7/200], Loss: 0.30785389595727125\n",
            "Epoch [8/200], Loss: 0.29498188248028356\n",
            "Epoch [9/200], Loss: 0.2854692431092262\n",
            "Epoch [10/200], Loss: 0.27467057487616936\n",
            "Epoch [11/200], Loss: 0.26830568559716145\n",
            "Epoch [12/200], Loss: 0.25814215187107525\n",
            "Epoch [13/200], Loss: 0.24940819021190205\n",
            "Epoch [14/200], Loss: 0.24444738084822892\n",
            "Epoch [15/200], Loss: 0.23859191479658087\n",
            "Epoch [16/200], Loss: 0.23155898495018482\n",
            "Epoch [17/200], Loss: 0.22562562109405795\n",
            "Epoch [18/200], Loss: 0.220296459933122\n",
            "Epoch [19/200], Loss: 0.21206333881616593\n",
            "Epoch [20/200], Loss: 0.20960091057543953\n",
            "Epoch [21/200], Loss: 0.20624992236122489\n",
            "Epoch [22/200], Loss: 0.19986102367161462\n",
            "Epoch [23/200], Loss: 0.19530413204431535\n",
            "Epoch [24/200], Loss: 0.19312162966746838\n",
            "Epoch [25/200], Loss: 0.18764106344679993\n",
            "Epoch [26/200], Loss: 0.1836644180783381\n",
            "Epoch [27/200], Loss: 0.1801829884586235\n",
            "Epoch [28/200], Loss: 0.1732649680164953\n",
            "Epoch [29/200], Loss: 0.17048048644885422\n",
            "Epoch [30/200], Loss: 0.1704416691598793\n",
            "Epoch [31/200], Loss: 0.1669696749355644\n",
            "Epoch [32/200], Loss: 0.16373400872449081\n",
            "Epoch [33/200], Loss: 0.16233399505944301\n",
            "Epoch [34/200], Loss: 0.15723733726826808\n",
            "Epoch [35/200], Loss: 0.15447346428254\n",
            "Epoch [36/200], Loss: 0.1545576546518132\n",
            "Epoch [37/200], Loss: 0.14620412410050632\n",
            "Epoch [38/200], Loss: 0.14241028870362787\n",
            "Epoch [39/200], Loss: 0.14137836676385876\n",
            "Epoch [40/200], Loss: 0.1423039033394307\n",
            "Epoch [41/200], Loss: 0.1375529004293494\n",
            "Epoch [42/200], Loss: 0.13899335852917283\n",
            "Epoch [43/200], Loss: 0.13538831498442838\n",
            "Epoch [44/200], Loss: 0.1287984882996728\n",
            "Epoch [45/200], Loss: 0.12960014000659187\n",
            "Epoch [46/200], Loss: 0.12750795842163887\n",
            "Epoch [47/200], Loss: 0.12409021653390179\n",
            "Epoch [48/200], Loss: 0.12071532321178044\n",
            "Epoch [49/200], Loss: 0.11564283333004763\n",
            "Epoch [50/200], Loss: 0.11969620903915104\n",
            "Epoch [51/200], Loss: 0.11240664103456463\n",
            "Epoch [52/200], Loss: 0.11313746599317528\n",
            "Epoch [53/200], Loss: 0.11436900947755203\n",
            "Epoch [54/200], Loss: 0.11118536476511508\n",
            "Epoch [55/200], Loss: 0.1151556797324059\n",
            "Epoch [56/200], Loss: 0.10828998744379108\n",
            "Epoch [57/200], Loss: 0.10759262777973587\n",
            "Epoch [58/200], Loss: 0.10664007855408515\n",
            "Epoch [59/200], Loss: 0.10350715170230251\n",
            "Epoch [60/200], Loss: 0.09918549502578874\n",
            "Epoch [61/200], Loss: 0.09934679207073835\n",
            "Epoch [62/200], Loss: 0.0993961365839156\n",
            "Epoch [63/200], Loss: 0.09597745557703699\n",
            "Epoch [64/200], Loss: 0.09528340040857439\n",
            "Epoch [65/200], Loss: 0.09809105654499338\n",
            "Epoch [66/200], Loss: 0.09813115014034944\n",
            "Epoch [67/200], Loss: 0.09015605362077865\n",
            "Epoch [68/200], Loss: 0.09044385887787211\n",
            "Epoch [69/200], Loss: 0.08992214041020877\n",
            "Epoch [70/200], Loss: 0.0894195347436859\n",
            "Epoch [71/200], Loss: 0.0901607719749057\n",
            "Epoch [72/200], Loss: 0.08494903467145438\n",
            "Epoch [73/200], Loss: 0.08435975614225026\n",
            "Epoch [74/200], Loss: 0.08038173073634972\n",
            "Epoch [75/200], Loss: 0.07998347281183427\n",
            "Epoch [76/200], Loss: 0.07927920010786814\n",
            "Epoch [77/200], Loss: 0.08367198768362868\n",
            "Epoch [78/200], Loss: 0.08010334276167365\n",
            "Epoch [79/200], Loss: 0.07839310948318841\n",
            "Epoch [80/200], Loss: 0.07731449945651306\n",
            "Epoch [81/200], Loss: 0.0725119466939359\n",
            "Epoch [82/200], Loss: 0.07715899436779243\n",
            "Epoch [83/200], Loss: 0.07848059432738227\n",
            "Epoch [84/200], Loss: 0.06879183093741692\n",
            "Epoch [85/200], Loss: 0.08118748380765707\n",
            "Epoch [86/200], Loss: 0.07770356753194937\n",
            "Epoch [87/200], Loss: 0.06794948129361728\n",
            "Epoch [88/200], Loss: 0.06668691740721502\n",
            "Epoch [89/200], Loss: 0.06795124354235305\n",
            "Epoch [90/200], Loss: 0.07117577052312844\n",
            "Epoch [91/200], Loss: 0.06771438679029719\n",
            "Epoch [92/200], Loss: 0.06959606989556535\n",
            "Epoch [93/200], Loss: 0.06168472910565712\n",
            "Epoch [94/200], Loss: 0.06411504278382442\n",
            "Epoch [95/200], Loss: 0.06060305817479578\n",
            "Epoch [96/200], Loss: 0.05729881219780267\n",
            "Epoch [97/200], Loss: 0.058360233872032645\n",
            "Epoch [98/200], Loss: 0.06350834116928429\n",
            "Epoch [99/200], Loss: 0.05521324163050546\n",
            "Epoch [100/200], Loss: 0.06209626051294617\n",
            "Epoch [101/200], Loss: 0.05609021250241009\n",
            "Epoch [102/200], Loss: 0.05560383168095723\n",
            "Epoch [103/200], Loss: 0.0643383123925887\n",
            "Epoch [104/200], Loss: 0.0635340284309544\n",
            "Epoch [105/200], Loss: 0.0649797911936621\n",
            "Epoch [106/200], Loss: 0.051118990215274\n",
            "Epoch [107/200], Loss: 0.06207857660894903\n",
            "Epoch [108/200], Loss: 0.06074025906099026\n",
            "Epoch [109/200], Loss: 0.05795079430094726\n",
            "Epoch [110/200], Loss: 0.0541816272126501\n",
            "Epoch [111/200], Loss: 0.05424850271951679\n",
            "Epoch [112/200], Loss: 0.06221691846237324\n",
            "Epoch [113/200], Loss: 0.05402261681543314\n",
            "Epoch [114/200], Loss: 0.04767888675510767\n",
            "Epoch [115/200], Loss: 0.05144704122277714\n",
            "Epoch [116/200], Loss: 0.05021566699204656\n",
            "Epoch [117/200], Loss: 0.05358425027486009\n",
            "Epoch [118/200], Loss: 0.049138368067035726\n",
            "Epoch [119/200], Loss: 0.045555538943663126\n",
            "Epoch [120/200], Loss: 0.05141210438528409\n",
            "Epoch [121/200], Loss: 0.04115872984984768\n",
            "Epoch [122/200], Loss: 0.041165045639785\n",
            "Epoch [123/200], Loss: 0.04132648063040445\n",
            "Epoch [124/200], Loss: 0.04296752998497201\n",
            "Epoch [125/200], Loss: 0.04985730177367562\n",
            "Epoch [126/200], Loss: 0.04249696501844543\n",
            "Epoch [127/200], Loss: 0.046640211180507325\n",
            "Epoch [128/200], Loss: 0.048918310737555655\n",
            "Epoch [129/200], Loss: 0.04623353355775665\n",
            "Epoch [130/200], Loss: 0.04928727382048965\n",
            "Epoch [131/200], Loss: 0.044163133028188896\n",
            "Epoch [132/200], Loss: 0.03480201238744\n",
            "Epoch [133/200], Loss: 0.03449410184071015\n",
            "Epoch [134/200], Loss: 0.04355828243427338\n",
            "Epoch [135/200], Loss: 0.04570616032073303\n",
            "Epoch [136/200], Loss: 0.04035993446949851\n",
            "Epoch [137/200], Loss: 0.0395872448232185\n",
            "Epoch [138/200], Loss: 0.054949840370370415\n",
            "Epoch [139/200], Loss: 0.03958966042527216\n",
            "Epoch [140/200], Loss: 0.02852841895997335\n",
            "Epoch [141/200], Loss: 0.03828105627982404\n",
            "Epoch [142/200], Loss: 0.039726910669967766\n",
            "Epoch [143/200], Loss: 0.04090400475947778\n",
            "Epoch [144/200], Loss: 0.03419362122963048\n",
            "Epoch [145/200], Loss: 0.04059959087801932\n",
            "Epoch [146/200], Loss: 0.033270131424577506\n",
            "Epoch [147/200], Loss: 0.030954573442714416\n",
            "Epoch [148/200], Loss: 0.03714604155552479\n",
            "Epoch [149/200], Loss: 0.029841926028643988\n",
            "Epoch [150/200], Loss: 0.026204580849776296\n",
            "Epoch [151/200], Loss: 0.02341477962335163\n",
            "Epoch [152/200], Loss: 0.03544917194305829\n",
            "Epoch [153/200], Loss: 0.046306740209586375\n",
            "Epoch [154/200], Loss: 0.03954890796464739\n",
            "Epoch [155/200], Loss: 0.041473987743367614\n",
            "Epoch [156/200], Loss: 0.03290127602846633\n",
            "Epoch [157/200], Loss: 0.04583074318381235\n",
            "Epoch [158/200], Loss: 0.029066571455870265\n",
            "Epoch [159/200], Loss: 0.04188031071420664\n",
            "Epoch [160/200], Loss: 0.022280383295121282\n",
            "Epoch [161/200], Loss: 0.022636975128012635\n",
            "Epoch [162/200], Loss: 0.02681446572894159\n",
            "Epoch [163/200], Loss: 0.04471532740985246\n",
            "Epoch [164/200], Loss: 0.02504450973280715\n",
            "Epoch [165/200], Loss: 0.03602867496978858\n",
            "Epoch [166/200], Loss: 0.02907603586847593\n",
            "Epoch [167/200], Loss: 0.025388094616776016\n",
            "Epoch [168/200], Loss: 0.019582820480180393\n",
            "Epoch [169/200], Loss: 0.04315907229328604\n",
            "Epoch [170/200], Loss: 0.03191169018905036\n",
            "Epoch [171/200], Loss: 0.04651134699792753\n",
            "Epoch [172/200], Loss: 0.017330344250961693\n",
            "Epoch [173/200], Loss: 0.01956741425606712\n",
            "Epoch [174/200], Loss: 0.019616827455673957\n",
            "Epoch [175/200], Loss: 0.031435667238823954\n",
            "Epoch [176/200], Loss: 0.02699166741952119\n",
            "Epoch [177/200], Loss: 0.026158979632356173\n",
            "Epoch [178/200], Loss: 0.03242843420988678\n",
            "Epoch [179/200], Loss: 0.04470170845687623\n",
            "Epoch [180/200], Loss: 0.02448375432790484\n",
            "Epoch [181/200], Loss: 0.02888980012230392\n",
            "Epoch [182/200], Loss: 0.03428663077006104\n",
            "Epoch [183/200], Loss: 0.025495925221779847\n",
            "Epoch [184/200], Loss: 0.022258679668561474\n",
            "Epoch [185/200], Loss: 0.031515160971736594\n",
            "Epoch [186/200], Loss: 0.04107034557220444\n",
            "Epoch [187/200], Loss: 0.024356353048039788\n",
            "Epoch [188/200], Loss: 0.029068106203383043\n",
            "Epoch [189/200], Loss: 0.02499760724277303\n",
            "Epoch [190/200], Loss: 0.024047063986067468\n",
            "Epoch [191/200], Loss: 0.025595737362564555\n",
            "Epoch [192/200], Loss: 0.027713959262513185\n",
            "Epoch [193/200], Loss: 0.021998284512460713\n",
            "Epoch [194/200], Loss: 0.03057329350825027\n",
            "Epoch [195/200], Loss: 0.027639632382390117\n",
            "Epoch [196/200], Loss: 0.014135559646047947\n",
            "Epoch [197/200], Loss: 0.017060819621105415\n",
            "Epoch [198/200], Loss: 0.020234613884891738\n",
            "Epoch [199/200], Loss: 0.05229771677325607\n",
            "Epoch [200/200], Loss: 0.02012381352480285\n"
          ]
        }
      ]
    },
    {
      "cell_type": "code",
      "source": [
        "# set model to eval\n",
        "\n",
        "model.eval() # tell the model that we are going to eval"
      ],
      "metadata": {
        "colab": {
          "base_uri": "https://localhost:8080/"
        },
        "id": "p2y2AWwzJrhJ",
        "outputId": "ff047810-d0a4-49e5-f21a-a4cce0c1bf33"
      },
      "execution_count": 27,
      "outputs": [
        {
          "output_type": "execute_result",
          "data": {
            "text/plain": [
              "MyNN(\n",
              "  (model): Sequential(\n",
              "    (0): Linear(in_features=784, out_features=128, bias=True)\n",
              "    (1): ReLU()\n",
              "    (2): Linear(in_features=128, out_features=64, bias=True)\n",
              "    (3): ReLU()\n",
              "    (4): Linear(in_features=64, out_features=10, bias=True)\n",
              "  )\n",
              ")"
            ]
          },
          "metadata": {},
          "execution_count": 27
        }
      ]
    },
    {
      "cell_type": "code",
      "source": [
        "total = 0\n",
        "correct = 0\n",
        "\n",
        "with torch.no_grad():\n",
        "  for batch_features, batch_labels in test_loader:\n",
        "\n",
        "     # move data to gpu\n",
        "    batch_features = batch_features.to(device)\n",
        "    batch_labels = batch_labels.to(device)\n",
        "\n",
        "\n",
        "    outputs = model(batch_features)\n",
        "\n",
        "    _, predicted = torch.max(outputs.data, 1) # give max from the predited value\n",
        "\n",
        "    total = total + batch_labels.shape[0] #\n",
        "    correct += (predicted == batch_labels).sum().item() # corrected if pred == batch\n",
        "\n",
        "accuracy = correct / total\n",
        "\n",
        "print(f'Accuracy: {accuracy}')"
      ],
      "metadata": {
        "colab": {
          "base_uri": "https://localhost:8080/"
        },
        "id": "73KkHVh5MQBP",
        "outputId": "63632136-6447-4b17-866c-d2877c9ecfb2"
      },
      "execution_count": 28,
      "outputs": [
        {
          "output_type": "stream",
          "name": "stdout",
          "text": [
            "Accuracy: 0.8903333333333333\n"
          ]
        }
      ]
    },
    {
      "cell_type": "code",
      "source": [
        "len(test_loader)"
      ],
      "metadata": {
        "colab": {
          "base_uri": "https://localhost:8080/"
        },
        "id": "4YzclgPROvM3",
        "outputId": "c7a4f0a7-2262-4bc2-9667-15b4f80f51d7"
      },
      "execution_count": 29,
      "outputs": [
        {
          "output_type": "execute_result",
          "data": {
            "text/plain": [
              "375"
            ]
          },
          "metadata": {},
          "execution_count": 29
        }
      ]
    },
    {
      "cell_type": "code",
      "source": [
        ""
      ],
      "metadata": {
        "id": "-LSntyLPPaeA"
      },
      "execution_count": null,
      "outputs": []
    }
  ]
}