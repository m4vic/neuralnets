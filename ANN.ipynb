{
  "nbformat": 4,
  "nbformat_minor": 0,
  "metadata": {
    "colab": {
      "provenance": [],
      "authorship_tag": "ABX9TyN0HdT4TrV7CqFTGWEbH3bk",
      "include_colab_link": true
    },
    "kernelspec": {
      "name": "python3",
      "display_name": "Python 3"
    },
    "language_info": {
      "name": "python"
    }
  },
  "cells": [
    {
      "cell_type": "markdown",
      "metadata": {
        "id": "view-in-github",
        "colab_type": "text"
      },
      "source": [
        "<a href=\"https://colab.research.google.com/github/m4vic/neuralnets/blob/main/ANN.ipynb\" target=\"_parent\"><img src=\"https://colab.research.google.com/assets/colab-badge.svg\" alt=\"Open In Colab\"/></a>"
      ]
    },
    {
      "cell_type": "markdown",
      "source": [
        "flow of this  \n",
        "data loader obj training and test data --> training loop ---> evaluation"
      ],
      "metadata": {
        "id": "ckrmQ6VZeeXb"
      }
    },
    {
      "cell_type": "code",
      "execution_count": null,
      "metadata": {
        "id": "aQF_b6PTbMZP"
      },
      "outputs": [],
      "source": [
        "import pandas as pd\n",
        "from sklearn.model_selection import train_test_split\n",
        "import torch\n",
        "from torch.utils.data import Dataset, DataLoader\n",
        "from torch import nn\n",
        "import torch.optim as optim\n",
        "import matplotlib.pyplot as plt"
      ]
    },
    {
      "cell_type": "code",
      "source": [
        "#set random seeds for reproducibility\n",
        "torch.manual_seed(42)"
      ],
      "metadata": {
        "id": "vLoYvLMCeZwy",
        "colab": {
          "base_uri": "https://localhost:8080/"
        },
        "outputId": "deaa38f6-add7-4c79-e9d8-867f19a0ac65"
      },
      "execution_count": null,
      "outputs": [
        {
          "output_type": "execute_result",
          "data": {
            "text/plain": [
              "<torch._C.Generator at 0x7de892a243b0>"
            ]
          },
          "metadata": {},
          "execution_count": 2
        }
      ]
    },
    {
      "cell_type": "code",
      "source": [
        "df = pd.read_csv('/content/fmnist_small.csv')\n",
        "df.head()"
      ],
      "metadata": {
        "colab": {
          "base_uri": "https://localhost:8080/",
          "height": 235
        },
        "id": "k032yITqxq6e",
        "outputId": "63557b9b-7a19-450b-8c4f-8114fe4f8d94"
      },
      "execution_count": null,
      "outputs": [
        {
          "output_type": "execute_result",
          "data": {
            "text/plain": [
              "   label  pixel1  pixel2  pixel3  pixel4  pixel5  pixel6  pixel7  pixel8  \\\n",
              "0      9       0       0       0       0       0       0       0       0   \n",
              "1      7       0       0       0       0       0       0       0       0   \n",
              "2      0       0       0       0       0       0       1       0       0   \n",
              "3      8       0       0       0       0       0       0       0       0   \n",
              "4      8       0       0       0       0       0       0       0       0   \n",
              "\n",
              "   pixel9  ...  pixel775  pixel776  pixel777  pixel778  pixel779  pixel780  \\\n",
              "0       0  ...         0         7         0        50       205       196   \n",
              "1       0  ...         0         0         0         0         0         0   \n",
              "2       0  ...       142       142       142        21         0         3   \n",
              "3       0  ...         0         0         0         0         0         0   \n",
              "4       0  ...       213       203       174       151       188        10   \n",
              "\n",
              "   pixel781  pixel782  pixel783  pixel784  \n",
              "0       213       165         0         0  \n",
              "1         0         0         0         0  \n",
              "2         0         0         0         0  \n",
              "3         0         0         0         0  \n",
              "4         0         0         0         0  \n",
              "\n",
              "[5 rows x 785 columns]"
            ],
            "text/html": [
              "\n",
              "  <div id=\"df-f2008177-6ad6-482c-a792-69afc39a205b\" class=\"colab-df-container\">\n",
              "    <div>\n",
              "<style scoped>\n",
              "    .dataframe tbody tr th:only-of-type {\n",
              "        vertical-align: middle;\n",
              "    }\n",
              "\n",
              "    .dataframe tbody tr th {\n",
              "        vertical-align: top;\n",
              "    }\n",
              "\n",
              "    .dataframe thead th {\n",
              "        text-align: right;\n",
              "    }\n",
              "</style>\n",
              "<table border=\"1\" class=\"dataframe\">\n",
              "  <thead>\n",
              "    <tr style=\"text-align: right;\">\n",
              "      <th></th>\n",
              "      <th>label</th>\n",
              "      <th>pixel1</th>\n",
              "      <th>pixel2</th>\n",
              "      <th>pixel3</th>\n",
              "      <th>pixel4</th>\n",
              "      <th>pixel5</th>\n",
              "      <th>pixel6</th>\n",
              "      <th>pixel7</th>\n",
              "      <th>pixel8</th>\n",
              "      <th>pixel9</th>\n",
              "      <th>...</th>\n",
              "      <th>pixel775</th>\n",
              "      <th>pixel776</th>\n",
              "      <th>pixel777</th>\n",
              "      <th>pixel778</th>\n",
              "      <th>pixel779</th>\n",
              "      <th>pixel780</th>\n",
              "      <th>pixel781</th>\n",
              "      <th>pixel782</th>\n",
              "      <th>pixel783</th>\n",
              "      <th>pixel784</th>\n",
              "    </tr>\n",
              "  </thead>\n",
              "  <tbody>\n",
              "    <tr>\n",
              "      <th>0</th>\n",
              "      <td>9</td>\n",
              "      <td>0</td>\n",
              "      <td>0</td>\n",
              "      <td>0</td>\n",
              "      <td>0</td>\n",
              "      <td>0</td>\n",
              "      <td>0</td>\n",
              "      <td>0</td>\n",
              "      <td>0</td>\n",
              "      <td>0</td>\n",
              "      <td>...</td>\n",
              "      <td>0</td>\n",
              "      <td>7</td>\n",
              "      <td>0</td>\n",
              "      <td>50</td>\n",
              "      <td>205</td>\n",
              "      <td>196</td>\n",
              "      <td>213</td>\n",
              "      <td>165</td>\n",
              "      <td>0</td>\n",
              "      <td>0</td>\n",
              "    </tr>\n",
              "    <tr>\n",
              "      <th>1</th>\n",
              "      <td>7</td>\n",
              "      <td>0</td>\n",
              "      <td>0</td>\n",
              "      <td>0</td>\n",
              "      <td>0</td>\n",
              "      <td>0</td>\n",
              "      <td>0</td>\n",
              "      <td>0</td>\n",
              "      <td>0</td>\n",
              "      <td>0</td>\n",
              "      <td>...</td>\n",
              "      <td>0</td>\n",
              "      <td>0</td>\n",
              "      <td>0</td>\n",
              "      <td>0</td>\n",
              "      <td>0</td>\n",
              "      <td>0</td>\n",
              "      <td>0</td>\n",
              "      <td>0</td>\n",
              "      <td>0</td>\n",
              "      <td>0</td>\n",
              "    </tr>\n",
              "    <tr>\n",
              "      <th>2</th>\n",
              "      <td>0</td>\n",
              "      <td>0</td>\n",
              "      <td>0</td>\n",
              "      <td>0</td>\n",
              "      <td>0</td>\n",
              "      <td>0</td>\n",
              "      <td>1</td>\n",
              "      <td>0</td>\n",
              "      <td>0</td>\n",
              "      <td>0</td>\n",
              "      <td>...</td>\n",
              "      <td>142</td>\n",
              "      <td>142</td>\n",
              "      <td>142</td>\n",
              "      <td>21</td>\n",
              "      <td>0</td>\n",
              "      <td>3</td>\n",
              "      <td>0</td>\n",
              "      <td>0</td>\n",
              "      <td>0</td>\n",
              "      <td>0</td>\n",
              "    </tr>\n",
              "    <tr>\n",
              "      <th>3</th>\n",
              "      <td>8</td>\n",
              "      <td>0</td>\n",
              "      <td>0</td>\n",
              "      <td>0</td>\n",
              "      <td>0</td>\n",
              "      <td>0</td>\n",
              "      <td>0</td>\n",
              "      <td>0</td>\n",
              "      <td>0</td>\n",
              "      <td>0</td>\n",
              "      <td>...</td>\n",
              "      <td>0</td>\n",
              "      <td>0</td>\n",
              "      <td>0</td>\n",
              "      <td>0</td>\n",
              "      <td>0</td>\n",
              "      <td>0</td>\n",
              "      <td>0</td>\n",
              "      <td>0</td>\n",
              "      <td>0</td>\n",
              "      <td>0</td>\n",
              "    </tr>\n",
              "    <tr>\n",
              "      <th>4</th>\n",
              "      <td>8</td>\n",
              "      <td>0</td>\n",
              "      <td>0</td>\n",
              "      <td>0</td>\n",
              "      <td>0</td>\n",
              "      <td>0</td>\n",
              "      <td>0</td>\n",
              "      <td>0</td>\n",
              "      <td>0</td>\n",
              "      <td>0</td>\n",
              "      <td>...</td>\n",
              "      <td>213</td>\n",
              "      <td>203</td>\n",
              "      <td>174</td>\n",
              "      <td>151</td>\n",
              "      <td>188</td>\n",
              "      <td>10</td>\n",
              "      <td>0</td>\n",
              "      <td>0</td>\n",
              "      <td>0</td>\n",
              "      <td>0</td>\n",
              "    </tr>\n",
              "  </tbody>\n",
              "</table>\n",
              "<p>5 rows × 785 columns</p>\n",
              "</div>\n",
              "    <div class=\"colab-df-buttons\">\n",
              "\n",
              "  <div class=\"colab-df-container\">\n",
              "    <button class=\"colab-df-convert\" onclick=\"convertToInteractive('df-f2008177-6ad6-482c-a792-69afc39a205b')\"\n",
              "            title=\"Convert this dataframe to an interactive table.\"\n",
              "            style=\"display:none;\">\n",
              "\n",
              "  <svg xmlns=\"http://www.w3.org/2000/svg\" height=\"24px\" viewBox=\"0 -960 960 960\">\n",
              "    <path d=\"M120-120v-720h720v720H120Zm60-500h600v-160H180v160Zm220 220h160v-160H400v160Zm0 220h160v-160H400v160ZM180-400h160v-160H180v160Zm440 0h160v-160H620v160ZM180-180h160v-160H180v160Zm440 0h160v-160H620v160Z\"/>\n",
              "  </svg>\n",
              "    </button>\n",
              "\n",
              "  <style>\n",
              "    .colab-df-container {\n",
              "      display:flex;\n",
              "      gap: 12px;\n",
              "    }\n",
              "\n",
              "    .colab-df-convert {\n",
              "      background-color: #E8F0FE;\n",
              "      border: none;\n",
              "      border-radius: 50%;\n",
              "      cursor: pointer;\n",
              "      display: none;\n",
              "      fill: #1967D2;\n",
              "      height: 32px;\n",
              "      padding: 0 0 0 0;\n",
              "      width: 32px;\n",
              "    }\n",
              "\n",
              "    .colab-df-convert:hover {\n",
              "      background-color: #E2EBFA;\n",
              "      box-shadow: 0px 1px 2px rgba(60, 64, 67, 0.3), 0px 1px 3px 1px rgba(60, 64, 67, 0.15);\n",
              "      fill: #174EA6;\n",
              "    }\n",
              "\n",
              "    .colab-df-buttons div {\n",
              "      margin-bottom: 4px;\n",
              "    }\n",
              "\n",
              "    [theme=dark] .colab-df-convert {\n",
              "      background-color: #3B4455;\n",
              "      fill: #D2E3FC;\n",
              "    }\n",
              "\n",
              "    [theme=dark] .colab-df-convert:hover {\n",
              "      background-color: #434B5C;\n",
              "      box-shadow: 0px 1px 3px 1px rgba(0, 0, 0, 0.15);\n",
              "      filter: drop-shadow(0px 1px 2px rgba(0, 0, 0, 0.3));\n",
              "      fill: #FFFFFF;\n",
              "    }\n",
              "  </style>\n",
              "\n",
              "    <script>\n",
              "      const buttonEl =\n",
              "        document.querySelector('#df-f2008177-6ad6-482c-a792-69afc39a205b button.colab-df-convert');\n",
              "      buttonEl.style.display =\n",
              "        google.colab.kernel.accessAllowed ? 'block' : 'none';\n",
              "\n",
              "      async function convertToInteractive(key) {\n",
              "        const element = document.querySelector('#df-f2008177-6ad6-482c-a792-69afc39a205b');\n",
              "        const dataTable =\n",
              "          await google.colab.kernel.invokeFunction('convertToInteractive',\n",
              "                                                    [key], {});\n",
              "        if (!dataTable) return;\n",
              "\n",
              "        const docLinkHtml = 'Like what you see? Visit the ' +\n",
              "          '<a target=\"_blank\" href=https://colab.research.google.com/notebooks/data_table.ipynb>data table notebook</a>'\n",
              "          + ' to learn more about interactive tables.';\n",
              "        element.innerHTML = '';\n",
              "        dataTable['output_type'] = 'display_data';\n",
              "        await google.colab.output.renderOutput(dataTable, element);\n",
              "        const docLink = document.createElement('div');\n",
              "        docLink.innerHTML = docLinkHtml;\n",
              "        element.appendChild(docLink);\n",
              "      }\n",
              "    </script>\n",
              "  </div>\n",
              "\n",
              "\n",
              "    <div id=\"df-0f503fb8-d1d3-45b1-8264-56d9ede603ca\">\n",
              "      <button class=\"colab-df-quickchart\" onclick=\"quickchart('df-0f503fb8-d1d3-45b1-8264-56d9ede603ca')\"\n",
              "                title=\"Suggest charts\"\n",
              "                style=\"display:none;\">\n",
              "\n",
              "<svg xmlns=\"http://www.w3.org/2000/svg\" height=\"24px\"viewBox=\"0 0 24 24\"\n",
              "     width=\"24px\">\n",
              "    <g>\n",
              "        <path d=\"M19 3H5c-1.1 0-2 .9-2 2v14c0 1.1.9 2 2 2h14c1.1 0 2-.9 2-2V5c0-1.1-.9-2-2-2zM9 17H7v-7h2v7zm4 0h-2V7h2v10zm4 0h-2v-4h2v4z\"/>\n",
              "    </g>\n",
              "</svg>\n",
              "      </button>\n",
              "\n",
              "<style>\n",
              "  .colab-df-quickchart {\n",
              "      --bg-color: #E8F0FE;\n",
              "      --fill-color: #1967D2;\n",
              "      --hover-bg-color: #E2EBFA;\n",
              "      --hover-fill-color: #174EA6;\n",
              "      --disabled-fill-color: #AAA;\n",
              "      --disabled-bg-color: #DDD;\n",
              "  }\n",
              "\n",
              "  [theme=dark] .colab-df-quickchart {\n",
              "      --bg-color: #3B4455;\n",
              "      --fill-color: #D2E3FC;\n",
              "      --hover-bg-color: #434B5C;\n",
              "      --hover-fill-color: #FFFFFF;\n",
              "      --disabled-bg-color: #3B4455;\n",
              "      --disabled-fill-color: #666;\n",
              "  }\n",
              "\n",
              "  .colab-df-quickchart {\n",
              "    background-color: var(--bg-color);\n",
              "    border: none;\n",
              "    border-radius: 50%;\n",
              "    cursor: pointer;\n",
              "    display: none;\n",
              "    fill: var(--fill-color);\n",
              "    height: 32px;\n",
              "    padding: 0;\n",
              "    width: 32px;\n",
              "  }\n",
              "\n",
              "  .colab-df-quickchart:hover {\n",
              "    background-color: var(--hover-bg-color);\n",
              "    box-shadow: 0 1px 2px rgba(60, 64, 67, 0.3), 0 1px 3px 1px rgba(60, 64, 67, 0.15);\n",
              "    fill: var(--button-hover-fill-color);\n",
              "  }\n",
              "\n",
              "  .colab-df-quickchart-complete:disabled,\n",
              "  .colab-df-quickchart-complete:disabled:hover {\n",
              "    background-color: var(--disabled-bg-color);\n",
              "    fill: var(--disabled-fill-color);\n",
              "    box-shadow: none;\n",
              "  }\n",
              "\n",
              "  .colab-df-spinner {\n",
              "    border: 2px solid var(--fill-color);\n",
              "    border-color: transparent;\n",
              "    border-bottom-color: var(--fill-color);\n",
              "    animation:\n",
              "      spin 1s steps(1) infinite;\n",
              "  }\n",
              "\n",
              "  @keyframes spin {\n",
              "    0% {\n",
              "      border-color: transparent;\n",
              "      border-bottom-color: var(--fill-color);\n",
              "      border-left-color: var(--fill-color);\n",
              "    }\n",
              "    20% {\n",
              "      border-color: transparent;\n",
              "      border-left-color: var(--fill-color);\n",
              "      border-top-color: var(--fill-color);\n",
              "    }\n",
              "    30% {\n",
              "      border-color: transparent;\n",
              "      border-left-color: var(--fill-color);\n",
              "      border-top-color: var(--fill-color);\n",
              "      border-right-color: var(--fill-color);\n",
              "    }\n",
              "    40% {\n",
              "      border-color: transparent;\n",
              "      border-right-color: var(--fill-color);\n",
              "      border-top-color: var(--fill-color);\n",
              "    }\n",
              "    60% {\n",
              "      border-color: transparent;\n",
              "      border-right-color: var(--fill-color);\n",
              "    }\n",
              "    80% {\n",
              "      border-color: transparent;\n",
              "      border-right-color: var(--fill-color);\n",
              "      border-bottom-color: var(--fill-color);\n",
              "    }\n",
              "    90% {\n",
              "      border-color: transparent;\n",
              "      border-bottom-color: var(--fill-color);\n",
              "    }\n",
              "  }\n",
              "</style>\n",
              "\n",
              "      <script>\n",
              "        async function quickchart(key) {\n",
              "          const quickchartButtonEl =\n",
              "            document.querySelector('#' + key + ' button');\n",
              "          quickchartButtonEl.disabled = true;  // To prevent multiple clicks.\n",
              "          quickchartButtonEl.classList.add('colab-df-spinner');\n",
              "          try {\n",
              "            const charts = await google.colab.kernel.invokeFunction(\n",
              "                'suggestCharts', [key], {});\n",
              "          } catch (error) {\n",
              "            console.error('Error during call to suggestCharts:', error);\n",
              "          }\n",
              "          quickchartButtonEl.classList.remove('colab-df-spinner');\n",
              "          quickchartButtonEl.classList.add('colab-df-quickchart-complete');\n",
              "        }\n",
              "        (() => {\n",
              "          let quickchartButtonEl =\n",
              "            document.querySelector('#df-0f503fb8-d1d3-45b1-8264-56d9ede603ca button');\n",
              "          quickchartButtonEl.style.display =\n",
              "            google.colab.kernel.accessAllowed ? 'block' : 'none';\n",
              "        })();\n",
              "      </script>\n",
              "    </div>\n",
              "\n",
              "    </div>\n",
              "  </div>\n"
            ],
            "application/vnd.google.colaboratory.intrinsic+json": {
              "type": "dataframe",
              "variable_name": "df"
            }
          },
          "metadata": {},
          "execution_count": 5
        }
      ]
    },
    {
      "cell_type": "markdown",
      "source": [
        "SEE THE DATA"
      ],
      "metadata": {
        "id": "xNA8LsvhyuMi"
      }
    },
    {
      "cell_type": "code",
      "source": [
        "# create a 4x4 grid of images\n",
        "fig, axes = plt.subplots(4, 4, figsize=(10, 10))\n",
        "fig.suptitle('4x4 Grid of Images', fontsize=16)\n",
        "\n",
        "for i , ax in enumerate(axes.flat):\n",
        "  ax.imshow(df.iloc[i, 1:].values.reshape(28, 28), cmap='grey')\n",
        "  ax.set_title(f'Label: {df.iloc[i, 0]}')\n",
        "  ax.axis('off')\n",
        "\n",
        "plt.tight_layout()\n",
        "plt.show()"
      ],
      "metadata": {
        "colab": {
          "base_uri": "https://localhost:8080/",
          "height": 1000
        },
        "id": "CvW-2QH5x2DT",
        "outputId": "9b367694-06dd-4279-f8d6-3ab1c4335fdc"
      },
      "execution_count": null,
      "outputs": [
        {
          "output_type": "display_data",
          "data": {
            "text/plain": [
              "<Figure size 1000x1000 with 16 Axes>"
            ],
            "image/png": "[encoded data removed]"
          },
          "metadata": {}
        }
      ]
    },
    {
      "cell_type": "markdown",
      "source": [
        "DATA"
      ],
      "metadata": {
        "id": "1qZqbyLRysBU"
      }
    },
    {
      "cell_type": "code",
      "source": [
        "X = df.iloc[:, 1:].values # all from 1 index to end\n",
        "y = df.iloc[:, 0].values # all 0 th index ie label"
      ],
      "metadata": {
        "id": "7Oh6rPm6x3eQ"
      },
      "execution_count": null,
      "outputs": []
    },
    {
      "cell_type": "code",
      "source": [
        "x_train, x_test, y_train, y_test = train_test_split(X, y, test_size=0.2, random_state=42)"
      ],
      "metadata": {
        "id": "rXdPEbgTy2o0"
      },
      "execution_count": null,
      "outputs": []
    },
    {
      "cell_type": "code",
      "source": [
        "# SCALING THE FEATURES coz noramalize\n",
        "x_train = x_train / 255.0\n",
        "x_test = x_test / 255.0"
      ],
      "metadata": {
        "id": "1JJ7ePi_y91O"
      },
      "execution_count": null,
      "outputs": []
    },
    {
      "cell_type": "code",
      "source": [
        "# create CustomDataset Class\n",
        "\n",
        "class CustomDataset(Dataset):\n",
        "\n",
        "  def __init__(self, features, labels): # it will fetch the data from dataset\n",
        "    self.features = torch.tensor(features, dtype=torch.float32)\n",
        "    self.labels = torch.tensor(labels, dtype=torch.long) # declaring the data\n",
        "\n",
        "  def __len__(self): # it will retrun len\n",
        "    return len(self.features)\n",
        "\n",
        "  def __getitem__(self, idx):\n",
        "    return self.features[idx], self.labels[idx]\n"
      ],
      "metadata": {
        "id": "BFaOVA3nzBTB"
      },
      "execution_count": null,
      "outputs": []
    },
    {
      "cell_type": "code",
      "source": [
        "# create train_dataset object\n",
        "train_dataset = CustomDataset(x_train, y_train)"
      ],
      "metadata": {
        "id": "lgfPqmpazus1"
      },
      "execution_count": null,
      "outputs": []
    },
    {
      "cell_type": "code",
      "source": [
        "len(train_dataset)"
      ],
      "metadata": {
        "colab": {
          "base_uri": "https://localhost:8080/"
        },
        "id": "rgo0cocN1BS0",
        "outputId": "736ddf4d-147a-450e-9d2c-7d9be3aa84bb"
      },
      "execution_count": null,
      "outputs": [
        {
          "output_type": "execute_result",
          "data": {
            "text/plain": [
              "4800"
            ]
          },
          "metadata": {},
          "execution_count": 21
        }
      ]
    },
    {
      "cell_type": "code",
      "source": [
        "#create test_dataset object\n",
        "test_dataset = CustomDataset(x_test, y_test)"
      ],
      "metadata": {
        "id": "9HHk2XS91Df-"
      },
      "execution_count": null,
      "outputs": []
    },
    {
      "cell_type": "code",
      "source": [
        "#create train and test loader\n",
        "train_loader = DataLoader(train_dataset, batch_size=32, shuffle=True)\n",
        "test_loader = DataLoader(test_dataset, batch_size=32, shuffle=False)"
      ],
      "metadata": {
        "id": "MFz3y_aZ1Tt0"
      },
      "execution_count": null,
      "outputs": []
    },
    {
      "cell_type": "code",
      "source": [
        "# define NN\n",
        "\n",
        "class MyNN(nn.Module):\n",
        "  def __init__(self, num_features):\n",
        "    super().__init__()\n",
        "    self.model = nn.Sequential(\n",
        "        nn.Linear(num_features, 128), # input num_features and 128 features as output\n",
        "        nn.ReLU(),\n",
        "        nn.Linear(128, 64), # 128 input 64 output\n",
        "        nn.ReLU(),\n",
        "        nn.Linear(64, 10) #64 input 10 output\n",
        "    )\n",
        "\n",
        "  def forward(self, x):\n",
        "    return self.model(x)\n"
      ],
      "metadata": {
        "id": "fsagQoQS2FHN"
      },
      "execution_count": null,
      "outputs": []
    },
    {
      "cell_type": "code",
      "source": [
        "# set learning rates\n",
        "epochs = 200\n",
        "learning_rate = 0.1"
      ],
      "metadata": {
        "id": "m0NgkDI029IX"
      },
      "execution_count": null,
      "outputs": []
    },
    {
      "cell_type": "code",
      "source": [
        "len(train_loader)"
      ],
      "metadata": {
        "colab": {
          "base_uri": "https://localhost:8080/"
        },
        "id": "uNg__5IvHl4a",
        "outputId": "e87e9b8e-fad5-49f5-f527-070fcf202527"
      },
      "execution_count": null,
      "outputs": [
        {
          "output_type": "execute_result",
          "data": {
            "text/plain": [
              "150"
            ]
          },
          "metadata": {},
          "execution_count": 38
        }
      ]
    },
    {
      "cell_type": "code",
      "source": [
        "#instatiate the model\n",
        "model = MyNN(x_train.shape[1])\n",
        "\n",
        "#loss function\n",
        "criterion = nn.CrossEntropyLoss()\n",
        "\n",
        "#optimizer\n",
        "optimizer = optim.SGD(model.parameters(), lr=learning_rate)"
      ],
      "metadata": {
        "id": "RyWlFKc-3FOj"
      },
      "execution_count": null,
      "outputs": []
    },
    {
      "cell_type": "code",
      "source": [
        "#training loop\n",
        "\n",
        "for epoch in range(epochs):\n",
        "  total_epoch_loss = 0\n",
        "  for batch_features, batch_labels in train_loader:\n",
        "\n",
        "    #forward pass\n",
        "\n",
        "    outputs = model(batch_features)\n",
        "\n",
        "    #calculate loss\n",
        "    loss = criterion(outputs, batch_labels)\n",
        "\n",
        "    #backward pass\n",
        "    optimizer.zero_grad()\n",
        "    loss.backward()\n",
        "\n",
        "    # update grads\n",
        "    optimizer.step()\n",
        "\n",
        "    # accumulate loss\n",
        "    total_epoch_loss = total_epoch_loss +  loss.item()\n",
        "  avg_loss = total_epoch_loss / len(train_loader)\n",
        "  print(f'Epoch [{epoch+1}/{epochs}], Loss: {avg_loss}')"
      ],
      "metadata": {
        "colab": {
          "base_uri": "https://localhost:8080/"
        },
        "id": "t2imU3y0HlEj",
        "outputId": "640603de-8a34-4e82-f809-c8797bb7d0b1"
      },
      "execution_count": null,
      "outputs": [
        {
          "output_type": "stream",
          "name": "stdout",
          "text": [
            "Epoch [1/200], Loss: 1.0080584541956583\n",
            "Epoch [2/200], Loss: 1.0377018042405446\n",
            "Epoch [3/200], Loss: 1.0680195780595143\n",
            "Epoch [4/200], Loss: 1.079578502178192\n",
            "Epoch [5/200], Loss: 1.055448638598124\n",
            "Epoch [6/200], Loss: 1.0313607188065848\n",
            "Epoch [7/200], Loss: 1.0800978318850198\n",
            "Epoch [8/200], Loss: 1.0333527986208597\n",
            "Epoch [9/200], Loss: 1.0270263687769572\n",
            "Epoch [10/200], Loss: 1.0307991723219554\n",
            "Epoch [11/200], Loss: 1.050708500146866\n",
            "Epoch [12/200], Loss: 1.019157325029373\n",
            "Epoch [13/200], Loss: 1.0236454439163207\n",
            "Epoch [14/200], Loss: 0.9990470131238302\n",
            "Epoch [15/200], Loss: 1.015481917063395\n",
            "Epoch [16/200], Loss: 1.0088760542869568\n",
            "Epoch [17/200], Loss: 0.9893146844704946\n",
            "Epoch [18/200], Loss: 1.1224540249506632\n",
            "Epoch [19/200], Loss: 1.0063403367996215\n",
            "Epoch [20/200], Loss: 1.0376440298557281\n",
            "Epoch [21/200], Loss: 1.0579821960131328\n",
            "Epoch [22/200], Loss: 1.0542615322271982\n",
            "Epoch [23/200], Loss: 0.9929274479548137\n",
            "Epoch [24/200], Loss: 1.0466636230548223\n",
            "Epoch [25/200], Loss: 1.0597155316670737\n",
            "Epoch [26/200], Loss: 0.9684922258059184\n",
            "Epoch [27/200], Loss: 1.0738092382748923\n",
            "Epoch [28/200], Loss: 0.9959516421953837\n",
            "Epoch [29/200], Loss: 1.0245816965897878\n",
            "Epoch [30/200], Loss: 0.9829253168900808\n",
            "Epoch [31/200], Loss: 0.9891581237316132\n",
            "Epoch [32/200], Loss: 0.9833191641171773\n",
            "Epoch [33/200], Loss: 1.0406691936651866\n",
            "Epoch [34/200], Loss: 0.9969229886929194\n",
            "Epoch [35/200], Loss: 1.0073975372314452\n",
            "Epoch [36/200], Loss: 0.9799739507834117\n",
            "Epoch [37/200], Loss: 0.9679615811506908\n",
            "Epoch [38/200], Loss: 1.0035730830828349\n",
            "Epoch [39/200], Loss: 0.9682817109425863\n",
            "Epoch [40/200], Loss: 0.9530092402299245\n",
            "Epoch [41/200], Loss: 0.9616141819953918\n",
            "Epoch [42/200], Loss: 1.0320947762330372\n",
            "Epoch [43/200], Loss: 0.9611044605573018\n",
            "Epoch [44/200], Loss: 1.000363029241562\n",
            "Epoch [45/200], Loss: 0.9579779624938964\n",
            "Epoch [46/200], Loss: 0.9645136102040609\n",
            "Epoch [47/200], Loss: 0.9801974380016327\n",
            "Epoch [48/200], Loss: 0.9347243909041086\n",
            "Epoch [49/200], Loss: 0.9583779497941335\n",
            "Epoch [50/200], Loss: 0.9688484517733256\n",
            "Epoch [51/200], Loss: 0.9645827714602152\n",
            "Epoch [52/200], Loss: 0.9466974945863088\n",
            "Epoch [53/200], Loss: 0.9763237865765889\n",
            "Epoch [54/200], Loss: 0.9521703088283539\n",
            "Epoch [55/200], Loss: 0.9402642631530762\n",
            "Epoch [56/200], Loss: 0.9317896389961242\n",
            "Epoch [57/200], Loss: 0.9279850478967031\n",
            "Epoch [58/200], Loss: 0.9250048410892486\n",
            "Epoch [59/200], Loss: 0.9340675961971283\n",
            "Epoch [60/200], Loss: 0.9626262881358465\n",
            "Epoch [61/200], Loss: 0.9508318587144216\n",
            "Epoch [62/200], Loss: 0.9302513388792674\n",
            "Epoch [63/200], Loss: 0.9078032461802165\n",
            "Epoch [64/200], Loss: 0.9180182868242264\n",
            "Epoch [65/200], Loss: 0.9225289189815521\n",
            "Epoch [66/200], Loss: 0.9627565044164658\n",
            "Epoch [67/200], Loss: 0.9147727759679158\n",
            "Epoch [68/200], Loss: 0.998875382343928\n",
            "Epoch [69/200], Loss: 0.9092233725388845\n",
            "Epoch [70/200], Loss: 0.8899882014592488\n",
            "Epoch [71/200], Loss: 0.914478650689125\n",
            "Epoch [72/200], Loss: 0.9310140748818715\n",
            "Epoch [73/200], Loss: 0.89915223300457\n",
            "Epoch [74/200], Loss: 0.9225926488637924\n",
            "Epoch [75/200], Loss: 0.8927337207396825\n",
            "Epoch [76/200], Loss: 0.8983514946699143\n",
            "Epoch [77/200], Loss: 0.9000557072957357\n",
            "Epoch [78/200], Loss: 0.9212841236591339\n",
            "Epoch [79/200], Loss: 0.9071457397937774\n",
            "Epoch [80/200], Loss: 0.8953972204526266\n",
            "Epoch [81/200], Loss: 0.9131721969445546\n",
            "Epoch [82/200], Loss: 0.8934968725840251\n",
            "Epoch [83/200], Loss: 0.9168673566977183\n",
            "Epoch [84/200], Loss: 0.8882628248135249\n",
            "Epoch [85/200], Loss: 0.9404188903172811\n",
            "Epoch [86/200], Loss: 0.8657671723763148\n",
            "Epoch [87/200], Loss: 0.9056138197580973\n",
            "Epoch [88/200], Loss: 0.8911938504378001\n",
            "Epoch [89/200], Loss: 0.8786156781514486\n",
            "Epoch [90/200], Loss: 0.9102787067492802\n",
            "Epoch [91/200], Loss: 0.9017100767294566\n",
            "Epoch [92/200], Loss: 0.9429159573713939\n",
            "Epoch [93/200], Loss: 0.8806560244162878\n",
            "Epoch [94/200], Loss: 0.8685796703894934\n",
            "Epoch [95/200], Loss: 0.8697502223650614\n",
            "Epoch [96/200], Loss: 0.8603414573272069\n",
            "Epoch [97/200], Loss: 0.8795191780726115\n",
            "Epoch [98/200], Loss: 0.8854665623108546\n",
            "Epoch [99/200], Loss: 0.8866508827606837\n",
            "Epoch [100/200], Loss: 0.8767967601617177\n",
            "Epoch [101/200], Loss: 0.873546178539594\n",
            "Epoch [102/200], Loss: 0.8379394125938415\n",
            "Epoch [103/200], Loss: 0.8882531630992889\n",
            "Epoch [104/200], Loss: 0.8753022420406341\n",
            "Epoch [105/200], Loss: 0.8581368895371755\n",
            "Epoch [106/200], Loss: 0.8770206274588903\n",
            "Epoch [107/200], Loss: 0.8506639873981476\n",
            "Epoch [108/200], Loss: 0.9191341559092204\n",
            "Epoch [109/200], Loss: 0.8458916451533636\n",
            "Epoch [110/200], Loss: 0.840773891210556\n",
            "Epoch [111/200], Loss: 0.8503735661506653\n",
            "Epoch [112/200], Loss: 0.854346150358518\n",
            "Epoch [113/200], Loss: 0.8394935168822606\n",
            "Epoch [114/200], Loss: 0.8517428082227707\n",
            "Epoch [115/200], Loss: 0.8148758792877198\n",
            "Epoch [116/200], Loss: 0.8635218348105749\n",
            "Epoch [117/200], Loss: 0.8820703927675883\n",
            "Epoch [118/200], Loss: 0.8481308555603028\n",
            "Epoch [119/200], Loss: 0.8451719474792481\n",
            "Epoch [120/200], Loss: 0.8354607985417049\n",
            "Epoch [121/200], Loss: 0.9404875526825587\n",
            "Epoch [122/200], Loss: 0.8391947935024897\n",
            "Epoch [123/200], Loss: 0.8971121062835058\n",
            "Epoch [124/200], Loss: 0.8673330412308375\n",
            "Epoch [125/200], Loss: 0.8197133183479309\n",
            "Epoch [126/200], Loss: 0.8494480117162069\n",
            "Epoch [127/200], Loss: 0.9426925772428513\n",
            "Epoch [128/200], Loss: 0.8318775075674057\n",
            "Epoch [129/200], Loss: 0.8568291616439819\n",
            "Epoch [130/200], Loss: 0.8360078104337056\n",
            "Epoch [131/200], Loss: 0.842987562417984\n",
            "Epoch [132/200], Loss: 0.8154408258199691\n",
            "Epoch [133/200], Loss: 0.8387844324111938\n",
            "Epoch [134/200], Loss: 0.8743437792857488\n",
            "Epoch [135/200], Loss: 0.8777415017286937\n",
            "Epoch [136/200], Loss: 0.8294331471125285\n",
            "Epoch [137/200], Loss: 0.8452380172411601\n",
            "Epoch [138/200], Loss: 0.844485944310824\n",
            "Epoch [139/200], Loss: 0.873125666975975\n",
            "Epoch [140/200], Loss: 0.8426176075140636\n",
            "Epoch [141/200], Loss: 0.8193658316135406\n",
            "Epoch [142/200], Loss: 0.8330081343650818\n",
            "Epoch [143/200], Loss: 0.8041109760602315\n",
            "Epoch [144/200], Loss: 0.828987246354421\n",
            "Epoch [145/200], Loss: 0.8184855967760086\n",
            "Epoch [146/200], Loss: 0.844094584385554\n",
            "Epoch [147/200], Loss: 0.8169458961486816\n",
            "Epoch [148/200], Loss: 0.7989480606714885\n",
            "Epoch [149/200], Loss: 0.8101934065421422\n",
            "Epoch [150/200], Loss: 0.8035328278938929\n",
            "Epoch [151/200], Loss: 0.8789733350276947\n",
            "Epoch [152/200], Loss: 0.8672367042303085\n",
            "Epoch [153/200], Loss: 0.8152058271567026\n",
            "Epoch [154/200], Loss: 0.8149775165319443\n",
            "Epoch [155/200], Loss: 0.8150271626313528\n",
            "Epoch [156/200], Loss: 0.8047379356622696\n",
            "Epoch [157/200], Loss: 0.8629622213045756\n",
            "Epoch [158/200], Loss: 0.8083199348052342\n",
            "Epoch [159/200], Loss: 0.8016627762715022\n",
            "Epoch [160/200], Loss: 0.7932842175165812\n",
            "Epoch [161/200], Loss: 0.8353139607111613\n",
            "Epoch [162/200], Loss: 0.8467017086346944\n",
            "Epoch [163/200], Loss: 0.829584534962972\n",
            "Epoch [164/200], Loss: 0.7960283575455348\n",
            "Epoch [165/200], Loss: 0.8108984289566675\n",
            "Epoch [166/200], Loss: 0.7899483740329742\n",
            "Epoch [167/200], Loss: 0.792829509973526\n",
            "Epoch [168/200], Loss: 0.7950320094823837\n",
            "Epoch [169/200], Loss: 0.8063100033998489\n",
            "Epoch [170/200], Loss: 0.8105196706453959\n",
            "Epoch [171/200], Loss: 0.7927664689222972\n",
            "Epoch [172/200], Loss: 0.8007303682963053\n",
            "Epoch [173/200], Loss: 0.8477504189809163\n",
            "Epoch [174/200], Loss: 0.797385381658872\n",
            "Epoch [175/200], Loss: 0.8022072205940882\n",
            "Epoch [176/200], Loss: 0.7911379474401474\n",
            "Epoch [177/200], Loss: 0.7884628973404566\n",
            "Epoch [178/200], Loss: 0.7853000456094742\n",
            "Epoch [179/200], Loss: 0.7813041621446609\n",
            "Epoch [180/200], Loss: 0.7816061256329219\n",
            "Epoch [181/200], Loss: 0.7934184461832047\n",
            "Epoch [182/200], Loss: 0.7862990365425746\n",
            "Epoch [183/200], Loss: 0.8031847681601842\n",
            "Epoch [184/200], Loss: 0.7613527256250382\n",
            "Epoch [185/200], Loss: 0.7726917608579\n",
            "Epoch [186/200], Loss: 0.7959706618388493\n",
            "Epoch [187/200], Loss: 0.7797347082694371\n",
            "Epoch [188/200], Loss: 0.7694572877883911\n",
            "Epoch [189/200], Loss: 0.8111186061302821\n",
            "Epoch [190/200], Loss: 0.8146219344933828\n",
            "Epoch [191/200], Loss: 0.7724225195248922\n",
            "Epoch [192/200], Loss: 0.789650930762291\n",
            "Epoch [193/200], Loss: 0.7623311614990235\n",
            "Epoch [194/200], Loss: 0.8193146548668544\n",
            "Epoch [195/200], Loss: 0.7972160959243775\n",
            "Epoch [196/200], Loss: 0.7608446355660756\n",
            "Epoch [197/200], Loss: 0.7559752045075099\n",
            "Epoch [198/200], Loss: 0.7796081906557083\n",
            "Epoch [199/200], Loss: 0.7699146191279094\n",
            "Epoch [200/200], Loss: 0.7744976596037547\n"
          ]
        }
      ]
    },
    {
      "cell_type": "code",
      "source": [
        "# set model to eval\n",
        "\n",
        "model.eval() # tell the model that we are going to eval"
      ],
      "metadata": {
        "colab": {
          "base_uri": "https://localhost:8080/"
        },
        "id": "p2y2AWwzJrhJ",
        "outputId": "c00a7afa-a26f-492f-9c41-a9175d0154f3"
      },
      "execution_count": null,
      "outputs": [
        {
          "output_type": "execute_result",
          "data": {
            "text/plain": [
              "MyNN(\n",
              "  (model): Sequential(\n",
              "    (0): Linear(in_features=784, out_features=128, bias=True)\n",
              "    (1): ReLU()\n",
              "    (2): Linear(in_features=128, out_features=64, bias=True)\n",
              "    (3): ReLU()\n",
              "    (4): Linear(in_features=64, out_features=10, bias=True)\n",
              "  )\n",
              ")"
            ]
          },
          "metadata": {},
          "execution_count": 42
        }
      ]
    },
    {
      "cell_type": "code",
      "source": [
        "total = 0\n",
        "correct = 0\n",
        "\n",
        "with torch.no_grad():\n",
        "  for batch_features, batch_labels in test_loader:\n",
        "    outputs = model(batch_features)\n",
        "\n",
        "    _, predicted = torch.max(outputs.data, 1) # give max from the predited value\n",
        "\n",
        "    total = total + batch_labels.shape[0] #\n",
        "    correct += (predicted == batch_labels).sum().item() # corrected if pred == batch\n",
        "\n",
        "accuracy = correct / total\n",
        "\n",
        "print(f'Accuracy: {accuracy}')"
      ],
      "metadata": {
        "colab": {
          "base_uri": "https://localhost:8080/"
        },
        "id": "73KkHVh5MQBP",
        "outputId": "56ec30ec-c4fa-41a0-fbd7-756d34d8feb1"
      },
      "execution_count": null,
      "outputs": [
        {
          "output_type": "stream",
          "name": "stdout",
          "text": [
            "Accuracy: 0.6975\n"
          ]
        }
      ]
    },
    {
      "cell_type": "code",
      "source": [
        "len(test_loader)"
      ],
      "metadata": {
        "colab": {
          "base_uri": "https://localhost:8080/"
        },
        "id": "4YzclgPROvM3",
        "outputId": "aaa67028-8bb2-4403-eab8-556977d220cf"
      },
      "execution_count": null,
      "outputs": [
        {
          "output_type": "execute_result",
          "data": {
            "text/plain": [
              "38"
            ]
          },
          "metadata": {},
          "execution_count": 48
        }
      ]
    },
    {
      "cell_type": "code",
      "source": [],
      "metadata": {
        "id": "-LSntyLPPaeA"
      },
      "execution_count": null,
      "outputs": []
    }
  ]
}